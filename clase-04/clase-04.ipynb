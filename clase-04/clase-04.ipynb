{
 "metadata": {
  "language_info": {
   "codemirror_mode": {
    "name": "ipython",
    "version": 3
   },
   "file_extension": ".py",
   "mimetype": "text/x-python",
   "name": "python",
   "nbconvert_exporter": "python",
   "pygments_lexer": "ipython3",
   "version": 3
  },
  "orig_nbformat": 2
 },
 "nbformat": 4,
 "nbformat_minor": 2,
 "cells": [
  {
   "cell_type": "code",
   "execution_count": null,
   "metadata": {},
   "outputs": [],
   "source": [
    "import matplotlib.pyplot as plt\n",
    "import numpy as np\n",
    "\n",
    "N = 256\n",
    "tiempo = np.arange(0, N−1 ,1)\n",
    "ciclos = 2\n",
    "amplitud = 1\n",
    "\n",
    "#seno2 = amplitud∗sin( ciclos ∗2∗pi∗tiempo/N)\n",
    "seno2 = amplitud * np.sin( ciclos * 2 * np.pi *tiempo/N)\n",
    "\n",
    "#nivelruidounif = runif(N,min=−0.5,max=0.5)\n",
    "nivelruidounif = np.rand() - 0.5\n",
    "\n",
    "op <− par(mfrow = c(1, 2))\n",
    "plot(tiempo, nivelruidounif , type=’l’)\n",
    "hist( nivelruidounif )"
   ]
  }
 ]
}