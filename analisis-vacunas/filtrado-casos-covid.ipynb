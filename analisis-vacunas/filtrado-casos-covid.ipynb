{
 "metadata": {
  "language_info": {
   "codemirror_mode": {
    "name": "ipython",
    "version": 3
   },
   "file_extension": ".py",
   "mimetype": "text/x-python",
   "name": "python",
   "nbconvert_exporter": "python",
   "pygments_lexer": "ipython3",
   "version": "3.8.6"
  },
  "orig_nbformat": 4,
  "kernelspec": {
   "name": "python3",
   "display_name": "Python 3.8.6 64-bit ('Python38')"
  },
  "interpreter": {
   "hash": "1baa965d5efe3ac65b79dfc60c0d706280b1da80fedb7760faf2759126c4f253"
  }
 },
 "nbformat": 4,
 "nbformat_minor": 2,
 "cells": [
  {
   "cell_type": "code",
   "execution_count": 2,
   "metadata": {},
   "outputs": [
    {
     "output_type": "stream",
     "name": "stderr",
     "text": [
      "C:\\Users\\Guti\\AppData\\Roaming\\Python\\Python38\\site-packages\\IPython\\core\\interactiveshell.py:3165: DtypeWarning: Columns (10,11,13) have mixed types.Specify dtype option on import or set low_memory=False.\n",
      "  has_raised = await self.run_ast_nodes(code_ast.body, cell_name,\n",
      "<ipython-input-2-0b35b90954d6>:40: SettingWithCopyWarning: \n",
      "A value is trying to be set on a copy of a slice from a DataFrame.\n",
      "Try using .loc[row_indexer,col_indexer] = value instead\n",
      "\n",
      "See the caveats in the documentation: https://pandas.pydata.org/pandas-docs/stable/user_guide/indexing.html#returning-a-view-versus-a-copy\n",
      "  infectadosCABA['grupo_etario'] = infectadosCABA.apply(lambda x: setRangoEtario(x['edad']), axis=1)\n",
      "<ipython-input-2-0b35b90954d6>:43: SettingWithCopyWarning: \n",
      "A value is trying to be set on a copy of a slice from a DataFrame.\n",
      "Try using .loc[row_indexer,col_indexer] = value instead\n",
      "\n",
      "See the caveats in the documentation: https://pandas.pydata.org/pandas-docs/stable/user_guide/indexing.html#returning-a-view-versus-a-copy\n",
      "  infectadosCABA['fecha_clasificacion'] = pd.to_datetime(infectadosCABA['fecha_clasificacion'], format='%d%b%Y:%H:%M:%S.%f')\n",
      "C:\\Users\\Guti\\AppData\\Roaming\\Python\\Python38\\site-packages\\IPython\\core\\interactiveshell.py:3165: DtypeWarning: Columns (10,11) have mixed types.Specify dtype option on import or set low_memory=False.\n",
      "  has_raised = await self.run_ast_nodes(code_ast.body, cell_name,\n"
     ]
    },
    {
     "output_type": "execute_result",
     "data": {
      "text/plain": [
       "   numero_de_caso        fecha_apertura_snvs         fecha_toma_muestra  \\\n",
       "0         5691075  29DEC2020:00:00:00.000000  29DEC2020:00:00:00.000000   \n",
       "1         5691704  29DEC2020:00:00:00.000000  28DEC2020:00:00:00.000000   \n",
       "2         5693823  29DEC2020:00:00:00.000000  23DEC2020:00:00:00.000000   \n",
       "3         5695125  29DEC2020:00:00:00.000000  26DEC2020:00:00:00.000000   \n",
       "4         5696893  29DEC2020:00:00:00.000000  30DEC2020:00:00:00.000000   \n",
       "\n",
       "         fecha_clasificacion provincia           barrio  comuna     genero  \\\n",
       "0  18JAN2021:00:00:00.000000      CABA         RECOLETA     2.0   femenino   \n",
       "1  19JAN2021:00:00:00.000000      CABA    NUEVA POMPEYA     4.0  masculino   \n",
       "2  29DEC2020:00:00:00.000000      CABA            NUÑEZ    13.0   femenino   \n",
       "3  06JAN2021:00:00:00.000000      CABA            NUÑEZ    13.0   femenino   \n",
       "4  31DEC2020:00:00:00.000000      CABA  VELEZ SARSFIELD    10.0  masculino   \n",
       "\n",
       "   edad clasificacion fecha_fallecimiento fallecido fecha_alta  \\\n",
       "0  68.0    confirmado                 NaN       NaN        NaN   \n",
       "1  56.0    confirmado                 NaN       NaN        NaN   \n",
       "2  40.0    confirmado                 NaN       NaN        NaN   \n",
       "3  52.0    confirmado                 NaN       NaN        NaN   \n",
       "4  79.0    confirmado                 NaN       NaN        NaN   \n",
       "\n",
       "      tipo_contagio grupo_etario  \n",
       "0       Comunitario        Grupo  \n",
       "1       Comunitario        Grupo  \n",
       "2       Comunitario        Grupo  \n",
       "3  En Investigación        Grupo  \n",
       "4       Comunitario        Grupo  "
      ],
      "text/html": "<div>\n<style scoped>\n    .dataframe tbody tr th:only-of-type {\n        vertical-align: middle;\n    }\n\n    .dataframe tbody tr th {\n        vertical-align: top;\n    }\n\n    .dataframe thead th {\n        text-align: right;\n    }\n</style>\n<table border=\"1\" class=\"dataframe\">\n  <thead>\n    <tr style=\"text-align: right;\">\n      <th></th>\n      <th>numero_de_caso</th>\n      <th>fecha_apertura_snvs</th>\n      <th>fecha_toma_muestra</th>\n      <th>fecha_clasificacion</th>\n      <th>provincia</th>\n      <th>barrio</th>\n      <th>comuna</th>\n      <th>genero</th>\n      <th>edad</th>\n      <th>clasificacion</th>\n      <th>fecha_fallecimiento</th>\n      <th>fallecido</th>\n      <th>fecha_alta</th>\n      <th>tipo_contagio</th>\n      <th>grupo_etario</th>\n    </tr>\n  </thead>\n  <tbody>\n    <tr>\n      <th>0</th>\n      <td>5691075</td>\n      <td>29DEC2020:00:00:00.000000</td>\n      <td>29DEC2020:00:00:00.000000</td>\n      <td>18JAN2021:00:00:00.000000</td>\n      <td>CABA</td>\n      <td>RECOLETA</td>\n      <td>2.0</td>\n      <td>femenino</td>\n      <td>68.0</td>\n      <td>confirmado</td>\n      <td>NaN</td>\n      <td>NaN</td>\n      <td>NaN</td>\n      <td>Comunitario</td>\n      <td>Grupo</td>\n    </tr>\n    <tr>\n      <th>1</th>\n      <td>5691704</td>\n      <td>29DEC2020:00:00:00.000000</td>\n      <td>28DEC2020:00:00:00.000000</td>\n      <td>19JAN2021:00:00:00.000000</td>\n      <td>CABA</td>\n      <td>NUEVA POMPEYA</td>\n      <td>4.0</td>\n      <td>masculino</td>\n      <td>56.0</td>\n      <td>confirmado</td>\n      <td>NaN</td>\n      <td>NaN</td>\n      <td>NaN</td>\n      <td>Comunitario</td>\n      <td>Grupo</td>\n    </tr>\n    <tr>\n      <th>2</th>\n      <td>5693823</td>\n      <td>29DEC2020:00:00:00.000000</td>\n      <td>23DEC2020:00:00:00.000000</td>\n      <td>29DEC2020:00:00:00.000000</td>\n      <td>CABA</td>\n      <td>NUÑEZ</td>\n      <td>13.0</td>\n      <td>femenino</td>\n      <td>40.0</td>\n      <td>confirmado</td>\n      <td>NaN</td>\n      <td>NaN</td>\n      <td>NaN</td>\n      <td>Comunitario</td>\n      <td>Grupo</td>\n    </tr>\n    <tr>\n      <th>3</th>\n      <td>5695125</td>\n      <td>29DEC2020:00:00:00.000000</td>\n      <td>26DEC2020:00:00:00.000000</td>\n      <td>06JAN2021:00:00:00.000000</td>\n      <td>CABA</td>\n      <td>NUÑEZ</td>\n      <td>13.0</td>\n      <td>femenino</td>\n      <td>52.0</td>\n      <td>confirmado</td>\n      <td>NaN</td>\n      <td>NaN</td>\n      <td>NaN</td>\n      <td>En Investigación</td>\n      <td>Grupo</td>\n    </tr>\n    <tr>\n      <th>4</th>\n      <td>5696893</td>\n      <td>29DEC2020:00:00:00.000000</td>\n      <td>30DEC2020:00:00:00.000000</td>\n      <td>31DEC2020:00:00:00.000000</td>\n      <td>CABA</td>\n      <td>VELEZ SARSFIELD</td>\n      <td>10.0</td>\n      <td>masculino</td>\n      <td>79.0</td>\n      <td>confirmado</td>\n      <td>NaN</td>\n      <td>NaN</td>\n      <td>NaN</td>\n      <td>Comunitario</td>\n      <td>Grupo</td>\n    </tr>\n  </tbody>\n</table>\n</div>"
     },
     "metadata": {},
     "execution_count": 2
    }
   ],
   "source": [
    "#Filtro el dataset de casos para quedarme solamente con los infectados que pertenecen a CABA\n",
    "import numpy as np # linear algebra\n",
    "import pandas as pd # data processing, CSV file I/O (e.g. pd.read_csv)\n",
    "import matplotlib.pyplot as plt\n",
    "\n",
    "import os\n",
    "\n",
    "filePath = \"D:/Github/05-Procesamiento-de-Señales/analisis-vacunas/data/casos_covid19.csv\"\n",
    "\n",
    "infectados = pd.read_csv(filePath, parse_dates=['fecha_clasificacion'])\n",
    "infectadosCABA = infectados[(infectados.provincia == \"CABA\") & (infectados.clasificacion == \"confirmado\")]\n",
    "\n",
    "#Agrupar los registros por rango etario\n",
    "#Creo un archivo unicamente con los valores del dataset filtrat\n",
    "#infectadosCABA['grupo_etario'] = 'Grupo'\n",
    "\n",
    "# infectadosCABA.to_csv('dataset_casos_covid_CABA.csv', index=False)\n",
    "# filePath = \"D:/Github/05-Procesamiento-de-Señales/analisis-vacunas/data/dataset_casos_covid_CABA.csv\"\n",
    "\n",
    "# casos = pd.read_csv(filePath, parse_dates=['fecha_clasificacion'])\n",
    "\n",
    "def setRangoEtario(edad):\n",
    "    if edad < 30:\n",
    "        return '30 o menos'\n",
    "    elif edad < 40:\n",
    "        return '31 a 40'\n",
    "    elif edad < 50:\n",
    "        return '41 a 50'\n",
    "    elif edad < 60:\n",
    "        return '51 a 60'\n",
    "    elif edad < 70:\n",
    "        return '61 a 70'\n",
    "    elif edad < 80:\n",
    "        return '71 a 80'\n",
    "    elif edad < 90:\n",
    "        return '81 a 90'\n",
    "    else :\n",
    "        return '91 o mas'\n",
    "\n",
    "infectadosCABA['grupo_etario'] = infectadosCABA.apply(lambda x: setRangoEtario(x['edad']), axis=1)\n",
    "# casos.head()\n",
    "\n",
    "infectadosCABA['fecha_clasificacion'] = pd.to_datetime(infectadosCABA['fecha_clasificacion'], format='%d%b%Y:%H:%M:%S.%f')\n",
    "\n",
    "infectadosCABA.to_csv('dataset_casos_covid_CABA.csv', index=False)\n",
    "filePath = \"D:/Github/05-Procesamiento-de-Señales/analisis-vacunas/data/dataset_casos_covid_CABA.csv\"\n",
    "\n",
    "casos = pd.read_csv(filePath, parse_dates=['fecha_clasificacion'])\n",
    "casos.head()"
   ]
  },
  {
   "cell_type": "code",
   "execution_count": null,
   "metadata": {},
   "outputs": [],
   "source": []
  }
 ]
}